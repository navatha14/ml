{
 "cells": [
  {
   "cell_type": "code",
   "execution_count": 1,
   "id": "f95bb97b-a731-4fdc-8cf2-9e2b9ddc1d36",
   "metadata": {},
   "outputs": [
    {
     "data": {
      "text/html": [
       "<div>\n",
       "<style scoped>\n",
       "    .dataframe tbody tr th:only-of-type {\n",
       "        vertical-align: middle;\n",
       "    }\n",
       "\n",
       "    .dataframe tbody tr th {\n",
       "        vertical-align: top;\n",
       "    }\n",
       "\n",
       "    .dataframe thead th {\n",
       "        text-align: right;\n",
       "    }\n",
       "</style>\n",
       "<table border=\"1\" class=\"dataframe\">\n",
       "  <thead>\n",
       "    <tr style=\"text-align: right;\">\n",
       "      <th></th>\n",
       "      <th>price</th>\n",
       "      <th>area</th>\n",
       "      <th>bedrooms</th>\n",
       "      <th>bathrooms</th>\n",
       "      <th>stories</th>\n",
       "      <th>mainroad</th>\n",
       "      <th>guestroom</th>\n",
       "      <th>basement</th>\n",
       "      <th>hotwaterheating</th>\n",
       "      <th>airconditioning</th>\n",
       "      <th>parking</th>\n",
       "      <th>prefarea</th>\n",
       "      <th>furnishingstatus</th>\n",
       "    </tr>\n",
       "  </thead>\n",
       "  <tbody>\n",
       "    <tr>\n",
       "      <th>0</th>\n",
       "      <td>13300000</td>\n",
       "      <td>7420</td>\n",
       "      <td>4</td>\n",
       "      <td>2</td>\n",
       "      <td>3</td>\n",
       "      <td>yes</td>\n",
       "      <td>no</td>\n",
       "      <td>no</td>\n",
       "      <td>no</td>\n",
       "      <td>yes</td>\n",
       "      <td>2</td>\n",
       "      <td>yes</td>\n",
       "      <td>furnished</td>\n",
       "    </tr>\n",
       "    <tr>\n",
       "      <th>1</th>\n",
       "      <td>12250000</td>\n",
       "      <td>8960</td>\n",
       "      <td>4</td>\n",
       "      <td>4</td>\n",
       "      <td>4</td>\n",
       "      <td>yes</td>\n",
       "      <td>no</td>\n",
       "      <td>no</td>\n",
       "      <td>no</td>\n",
       "      <td>yes</td>\n",
       "      <td>3</td>\n",
       "      <td>no</td>\n",
       "      <td>furnished</td>\n",
       "    </tr>\n",
       "    <tr>\n",
       "      <th>2</th>\n",
       "      <td>12250000</td>\n",
       "      <td>9960</td>\n",
       "      <td>3</td>\n",
       "      <td>2</td>\n",
       "      <td>2</td>\n",
       "      <td>yes</td>\n",
       "      <td>no</td>\n",
       "      <td>yes</td>\n",
       "      <td>no</td>\n",
       "      <td>no</td>\n",
       "      <td>2</td>\n",
       "      <td>yes</td>\n",
       "      <td>semi-furnished</td>\n",
       "    </tr>\n",
       "    <tr>\n",
       "      <th>3</th>\n",
       "      <td>12215000</td>\n",
       "      <td>7500</td>\n",
       "      <td>4</td>\n",
       "      <td>2</td>\n",
       "      <td>2</td>\n",
       "      <td>yes</td>\n",
       "      <td>no</td>\n",
       "      <td>yes</td>\n",
       "      <td>no</td>\n",
       "      <td>yes</td>\n",
       "      <td>3</td>\n",
       "      <td>yes</td>\n",
       "      <td>furnished</td>\n",
       "    </tr>\n",
       "    <tr>\n",
       "      <th>4</th>\n",
       "      <td>11410000</td>\n",
       "      <td>7420</td>\n",
       "      <td>4</td>\n",
       "      <td>1</td>\n",
       "      <td>2</td>\n",
       "      <td>yes</td>\n",
       "      <td>yes</td>\n",
       "      <td>yes</td>\n",
       "      <td>no</td>\n",
       "      <td>yes</td>\n",
       "      <td>2</td>\n",
       "      <td>no</td>\n",
       "      <td>furnished</td>\n",
       "    </tr>\n",
       "  </tbody>\n",
       "</table>\n",
       "</div>"
      ],
      "text/plain": [
       "      price  area  bedrooms  bathrooms  stories mainroad guestroom basement  \\\n",
       "0  13300000  7420         4          2        3      yes        no       no   \n",
       "1  12250000  8960         4          4        4      yes        no       no   \n",
       "2  12250000  9960         3          2        2      yes        no      yes   \n",
       "3  12215000  7500         4          2        2      yes        no      yes   \n",
       "4  11410000  7420         4          1        2      yes       yes      yes   \n",
       "\n",
       "  hotwaterheating airconditioning  parking prefarea furnishingstatus  \n",
       "0              no             yes        2      yes        furnished  \n",
       "1              no             yes        3       no        furnished  \n",
       "2              no              no        2      yes   semi-furnished  \n",
       "3              no             yes        3      yes        furnished  \n",
       "4              no             yes        2       no        furnished  "
      ]
     },
     "execution_count": 1,
     "metadata": {},
     "output_type": "execute_result"
    }
   ],
   "source": [
    "#1 Import the dataset (Housing.csv) and look at the top five rows\n",
    "import pandas as pd\n",
    "df = pd.read_csv('Housing.csv')\n",
    "df.head()"
   ]
  },
  {
   "cell_type": "code",
   "execution_count": 2,
   "id": "9d2aae77-808d-4a61-a3be-796258f0fe9a",
   "metadata": {},
   "outputs": [
    {
     "name": "stdout",
     "output_type": "stream",
     "text": [
      "Shape of the DataFrame :  (545, 13)\n"
     ]
    }
   ],
   "source": [
    "#2 Check the shape of the DataFrame (rows, columns)\n",
    "\n",
    "print(\"Shape of the DataFrame : \" , df.shape)\n"
   ]
  },
  {
   "cell_type": "code",
   "execution_count": 3,
   "id": "cda21881-9241-412a-9e19-4c9fcb6ec717",
   "metadata": {},
   "outputs": [
    {
     "name": "stdout",
     "output_type": "stream",
     "text": [
      "Data types of the df :  price                int64\n",
      "area                 int64\n",
      "bedrooms             int64\n",
      "bathrooms            int64\n",
      "stories              int64\n",
      "mainroad            object\n",
      "guestroom           object\n",
      "basement            object\n",
      "hotwaterheating     object\n",
      "airconditioning     object\n",
      "parking              int64\n",
      "prefarea            object\n",
      "furnishingstatus    object\n",
      "dtype: object\n"
     ]
    }
   ],
   "source": [
    "\n",
    "\n",
    "#3 Look at the data types of the columns\n",
    "\n",
    "print(\"Data types of the df : \" ,df.dtypes)\n",
    "\n"
   ]
  },
  {
   "cell_type": "code",
   "execution_count": 4,
   "id": "0fb5e452-1508-4151-bc0b-99d2d8bb050b",
   "metadata": {},
   "outputs": [
    {
     "name": "stdout",
     "output_type": "stream",
     "text": [
      "Missing values :  price               0\n",
      "area                0\n",
      "bedrooms            0\n",
      "bathrooms           0\n",
      "stories             0\n",
      "mainroad            0\n",
      "guestroom           0\n",
      "basement            0\n",
      "hotwaterheating     0\n",
      "airconditioning     0\n",
      "parking             0\n",
      "prefarea            0\n",
      "furnishingstatus    0\n",
      "dtype: int64\n"
     ]
    }
   ],
   "source": [
    "#4 Check for missing  values if any, replace with appropriate values\n",
    "\n",
    "print(\"Missing values : \", df.isnull().sum())"
   ]
  },
  {
   "cell_type": "code",
   "execution_count": 5,
   "id": "e471a3e8-71ee-4f58-810c-f7d50451eebe",
   "metadata": {},
   "outputs": [],
   "source": [
    "#5 Prepare  X (independent variables) and y (dependent variable)\n",
    "\n",
    "x = df.drop(columns=\"price\")\n",
    "y = df[\"price\"]\n",
    "\n"
   ]
  },
  {
   "cell_type": "code",
   "execution_count": 22,
   "id": "5a1507d2-56c6-42cb-a5e7-bd3c8a2a90ef",
   "metadata": {},
   "outputs": [
    {
     "ename": "IndexError",
     "evalue": "index 6 is out of bounds for axis 0 with size 6",
     "output_type": "error",
     "traceback": [
      "\u001b[0;31m---------------------------------------------------------------------------\u001b[0m",
      "\u001b[0;31mIndexError\u001b[0m                                Traceback (most recent call last)",
      "\u001b[0;32m/tmp/ipykernel_5490/3796674368.py\u001b[0m in \u001b[0;36m<module>\u001b[0;34m\u001b[0m\n\u001b[1;32m     11\u001b[0m \u001b[0;34m\u001b[0m\u001b[0m\n\u001b[1;32m     12\u001b[0m \u001b[0;32mfor\u001b[0m \u001b[0mi\u001b[0m\u001b[0;34m,\u001b[0m\u001b[0mcol\u001b[0m \u001b[0;32min\u001b[0m \u001b[0menumerate\u001b[0m\u001b[0;34m(\u001b[0m\u001b[0mcols\u001b[0m\u001b[0;34m)\u001b[0m\u001b[0;34m:\u001b[0m\u001b[0;34m\u001b[0m\u001b[0;34m\u001b[0m\u001b[0m\n\u001b[0;32m---> 13\u001b[0;31m     \u001b[0mcur_axis\u001b[0m \u001b[0;34m=\u001b[0m \u001b[0maxes\u001b[0m\u001b[0;34m[\u001b[0m\u001b[0mi\u001b[0m\u001b[0;34m]\u001b[0m\u001b[0;34m\u001b[0m\u001b[0;34m\u001b[0m\u001b[0m\n\u001b[0m\u001b[1;32m     14\u001b[0m     \u001b[0msns\u001b[0m\u001b[0;34m.\u001b[0m\u001b[0mscatterplot\u001b[0m\u001b[0;34m(\u001b[0m\u001b[0mx\u001b[0m\u001b[0;34m=\u001b[0m\u001b[0mdf\u001b[0m\u001b[0;34m[\u001b[0m\u001b[0mcol\u001b[0m\u001b[0;34m]\u001b[0m\u001b[0;34m,\u001b[0m\u001b[0my\u001b[0m\u001b[0;34m=\u001b[0m\u001b[0my\u001b[0m\u001b[0;34m,\u001b[0m\u001b[0max\u001b[0m \u001b[0;34m=\u001b[0m \u001b[0mcur_axis\u001b[0m\u001b[0;34m)\u001b[0m\u001b[0;34m\u001b[0m\u001b[0;34m\u001b[0m\u001b[0m\n\u001b[1;32m     15\u001b[0m     \u001b[0mcur_axis\u001b[0m\u001b[0;34m.\u001b[0m\u001b[0mset_xlabel\u001b[0m\u001b[0;34m(\u001b[0m\u001b[0mcol\u001b[0m\u001b[0;34m)\u001b[0m\u001b[0;34m\u001b[0m\u001b[0;34m\u001b[0m\u001b[0m\n",
      "\u001b[0;31mIndexError\u001b[0m: index 6 is out of bounds for axis 0 with size 6"
     ]
    },
    {
     "data": {
      "image/png": "[encoded data removed]",
      "text/plain": [
       "<Figure size 720x720 with 6 Axes>"
      ]
     },
     "metadata": {
      "needs_background": "light"
     },
     "output_type": "display_data"
    }
   ],
   "source": [
    "#6 Visualise the relationship between the independent variables and the depenedent variable using scatterplots\n",
    "\n",
    "\n",
    "import matplotlib.pyplot as plt\n",
    "import seaborn as sns\n",
    "\n",
    "cols = x.select_dtypes(include=\"number\").columns\n",
    "\n",
    "fig, axes = plt.subplots(3,2,figsize=(10,10))\n",
    "axes = axes.flatten()\n",
    "\n",
    "for i,col in enumerate(cols):\n",
    "    cur_axis = axes[i]\n",
    "    sns.scatterplot(x=df[col],y=y,ax = cur_axis)\n",
    "    cur_axis.set_xlabel(col)\n",
    "    cur_axis.set_ylabel(\"price\")\n",
    "    cur_axis.set_title(f\"Price Vs {col}\")\n",
    "\n",
    "plt.delaxes(axes[-1]) # deletes the specified axis \n",
    "plt.tight_layout()  \n",
    "plt.show()"
   ]
  },
  {
   "cell_type": "code",
   "execution_count": 7,
   "id": "73be3bde-4046-4182-9355-0548fb46a119",
   "metadata": {},
   "outputs": [
    {
     "data": {
      "text/html": [
       "<div>\n",
       "<style scoped>\n",
       "    .dataframe tbody tr th:only-of-type {\n",
       "        vertical-align: middle;\n",
       "    }\n",
       "\n",
       "    .dataframe tbody tr th {\n",
       "        vertical-align: top;\n",
       "    }\n",
       "\n",
       "    .dataframe thead th {\n",
       "        text-align: right;\n",
       "    }\n",
       "</style>\n",
       "<table border=\"1\" class=\"dataframe\">\n",
       "  <thead>\n",
       "    <tr style=\"text-align: right;\">\n",
       "      <th></th>\n",
       "      <th>area</th>\n",
       "      <th>bedrooms</th>\n",
       "      <th>bathrooms</th>\n",
       "      <th>stories</th>\n",
       "      <th>mainroad</th>\n",
       "      <th>guestroom</th>\n",
       "      <th>basement</th>\n",
       "      <th>hotwaterheating</th>\n",
       "      <th>airconditioning</th>\n",
       "      <th>parking</th>\n",
       "      <th>prefarea</th>\n",
       "      <th>furnishingstatus</th>\n",
       "    </tr>\n",
       "  </thead>\n",
       "  <tbody>\n",
       "    <tr>\n",
       "      <th>0</th>\n",
       "      <td>7420</td>\n",
       "      <td>4</td>\n",
       "      <td>2</td>\n",
       "      <td>3</td>\n",
       "      <td>1</td>\n",
       "      <td>0</td>\n",
       "      <td>0</td>\n",
       "      <td>0</td>\n",
       "      <td>1</td>\n",
       "      <td>2</td>\n",
       "      <td>1</td>\n",
       "      <td>0</td>\n",
       "    </tr>\n",
       "    <tr>\n",
       "      <th>1</th>\n",
       "      <td>8960</td>\n",
       "      <td>4</td>\n",
       "      <td>4</td>\n",
       "      <td>4</td>\n",
       "      <td>1</td>\n",
       "      <td>0</td>\n",
       "      <td>0</td>\n",
       "      <td>0</td>\n",
       "      <td>1</td>\n",
       "      <td>3</td>\n",
       "      <td>0</td>\n",
       "      <td>0</td>\n",
       "    </tr>\n",
       "    <tr>\n",
       "      <th>2</th>\n",
       "      <td>9960</td>\n",
       "      <td>3</td>\n",
       "      <td>2</td>\n",
       "      <td>2</td>\n",
       "      <td>1</td>\n",
       "      <td>0</td>\n",
       "      <td>1</td>\n",
       "      <td>0</td>\n",
       "      <td>0</td>\n",
       "      <td>2</td>\n",
       "      <td>1</td>\n",
       "      <td>1</td>\n",
       "    </tr>\n",
       "    <tr>\n",
       "      <th>3</th>\n",
       "      <td>7500</td>\n",
       "      <td>4</td>\n",
       "      <td>2</td>\n",
       "      <td>2</td>\n",
       "      <td>1</td>\n",
       "      <td>0</td>\n",
       "      <td>1</td>\n",
       "      <td>0</td>\n",
       "      <td>1</td>\n",
       "      <td>3</td>\n",
       "      <td>1</td>\n",
       "      <td>0</td>\n",
       "    </tr>\n",
       "    <tr>\n",
       "      <th>4</th>\n",
       "      <td>7420</td>\n",
       "      <td>4</td>\n",
       "      <td>1</td>\n",
       "      <td>2</td>\n",
       "      <td>1</td>\n",
       "      <td>1</td>\n",
       "      <td>1</td>\n",
       "      <td>0</td>\n",
       "      <td>1</td>\n",
       "      <td>2</td>\n",
       "      <td>0</td>\n",
       "      <td>0</td>\n",
       "    </tr>\n",
       "  </tbody>\n",
       "</table>\n",
       "</div>"
      ],
      "text/plain": [
       "   area  bedrooms  bathrooms  stories  mainroad  guestroom  basement  \\\n",
       "0  7420         4          2        3         1          0         0   \n",
       "1  8960         4          4        4         1          0         0   \n",
       "2  9960         3          2        2         1          0         1   \n",
       "3  7500         4          2        2         1          0         1   \n",
       "4  7420         4          1        2         1          1         1   \n",
       "\n",
       "   hotwaterheating  airconditioning  parking  prefarea  furnishingstatus  \n",
       "0                0                1        2         1                 0  \n",
       "1                0                1        3         0                 0  \n",
       "2                0                0        2         1                 1  \n",
       "3                0                1        3         1                 0  \n",
       "4                0                1        2         0                 0  "
      ]
     },
     "execution_count": 7,
     "metadata": {},
     "output_type": "execute_result"
    }
   ],
   "source": [
    "#7 Encoding categorical data in X\n",
    "\n",
    "\n",
    "from sklearn.preprocessing import LabelEncoder\n",
    "\n",
    "cols = x.select_dtypes(include=\"object\").columns\n",
    "for col in cols : \n",
    "    le = LabelEncoder()\n",
    "    x[col] = le.fit_transform(x[col])\n",
    "\n",
    "x.head()\n"
   ]
  },
  {
   "cell_type": "code",
   "execution_count": 8,
   "id": "7b01b065-414a-4da3-806a-c8904c178c4f",
   "metadata": {},
   "outputs": [],
   "source": [
    "#8  Avoiding the Dummy Variable Trap\n",
    "\n",
    "\n",
    "# pd.get_dummies(df[col], drop_first=True)\n"
   ]
  },
  {
   "cell_type": "code",
   "execution_count": 9,
   "id": "dc3263f1-4393-43fa-b2f1-3e8738fb6c80",
   "metadata": {},
   "outputs": [
    {
     "data": {
      "text/html": [
       "<div>\n",
       "<style scoped>\n",
       "    .dataframe tbody tr th:only-of-type {\n",
       "        vertical-align: middle;\n",
       "    }\n",
       "\n",
       "    .dataframe tbody tr th {\n",
       "        vertical-align: top;\n",
       "    }\n",
       "\n",
       "    .dataframe thead th {\n",
       "        text-align: right;\n",
       "    }\n",
       "</style>\n",
       "<table border=\"1\" class=\"dataframe\">\n",
       "  <thead>\n",
       "    <tr style=\"text-align: right;\">\n",
       "      <th></th>\n",
       "      <th>area</th>\n",
       "      <th>bedrooms</th>\n",
       "      <th>bathrooms</th>\n",
       "      <th>stories</th>\n",
       "      <th>mainroad</th>\n",
       "      <th>guestroom</th>\n",
       "      <th>basement</th>\n",
       "      <th>hotwaterheating</th>\n",
       "      <th>airconditioning</th>\n",
       "      <th>parking</th>\n",
       "      <th>prefarea</th>\n",
       "      <th>furnishingstatus</th>\n",
       "    </tr>\n",
       "  </thead>\n",
       "  <tbody>\n",
       "    <tr>\n",
       "      <th>0</th>\n",
       "      <td>1.046726</td>\n",
       "      <td>1.403419</td>\n",
       "      <td>1.421812</td>\n",
       "      <td>1.378217</td>\n",
       "      <td>1</td>\n",
       "      <td>0</td>\n",
       "      <td>0</td>\n",
       "      <td>0</td>\n",
       "      <td>1</td>\n",
       "      <td>1.517692</td>\n",
       "      <td>1</td>\n",
       "      <td>0</td>\n",
       "    </tr>\n",
       "    <tr>\n",
       "      <th>1</th>\n",
       "      <td>1.757010</td>\n",
       "      <td>1.403419</td>\n",
       "      <td>5.405809</td>\n",
       "      <td>2.532024</td>\n",
       "      <td>1</td>\n",
       "      <td>0</td>\n",
       "      <td>0</td>\n",
       "      <td>0</td>\n",
       "      <td>1</td>\n",
       "      <td>2.679409</td>\n",
       "      <td>0</td>\n",
       "      <td>0</td>\n",
       "    </tr>\n",
       "    <tr>\n",
       "      <th>2</th>\n",
       "      <td>2.218232</td>\n",
       "      <td>0.047278</td>\n",
       "      <td>1.421812</td>\n",
       "      <td>0.224410</td>\n",
       "      <td>1</td>\n",
       "      <td>0</td>\n",
       "      <td>1</td>\n",
       "      <td>0</td>\n",
       "      <td>0</td>\n",
       "      <td>1.517692</td>\n",
       "      <td>1</td>\n",
       "      <td>1</td>\n",
       "    </tr>\n",
       "    <tr>\n",
       "      <th>3</th>\n",
       "      <td>1.083624</td>\n",
       "      <td>1.403419</td>\n",
       "      <td>1.421812</td>\n",
       "      <td>0.224410</td>\n",
       "      <td>1</td>\n",
       "      <td>0</td>\n",
       "      <td>1</td>\n",
       "      <td>0</td>\n",
       "      <td>1</td>\n",
       "      <td>2.679409</td>\n",
       "      <td>1</td>\n",
       "      <td>0</td>\n",
       "    </tr>\n",
       "    <tr>\n",
       "      <th>4</th>\n",
       "      <td>1.046726</td>\n",
       "      <td>1.403419</td>\n",
       "      <td>-0.570187</td>\n",
       "      <td>0.224410</td>\n",
       "      <td>1</td>\n",
       "      <td>1</td>\n",
       "      <td>1</td>\n",
       "      <td>0</td>\n",
       "      <td>1</td>\n",
       "      <td>1.517692</td>\n",
       "      <td>0</td>\n",
       "      <td>0</td>\n",
       "    </tr>\n",
       "  </tbody>\n",
       "</table>\n",
       "</div>"
      ],
      "text/plain": [
       "       area  bedrooms  bathrooms   stories  mainroad  guestroom  basement  \\\n",
       "0  1.046726  1.403419   1.421812  1.378217         1          0         0   \n",
       "1  1.757010  1.403419   5.405809  2.532024         1          0         0   \n",
       "2  2.218232  0.047278   1.421812  0.224410         1          0         1   \n",
       "3  1.083624  1.403419   1.421812  0.224410         1          0         1   \n",
       "4  1.046726  1.403419  -0.570187  0.224410         1          1         1   \n",
       "\n",
       "   hotwaterheating  airconditioning   parking  prefarea  furnishingstatus  \n",
       "0                0                1  1.517692         1                 0  \n",
       "1                0                1  2.679409         0                 0  \n",
       "2                0                0  1.517692         1                 1  \n",
       "3                0                1  2.679409         1                 0  \n",
       "4                0                1  1.517692         0                 0  "
      ]
     },
     "execution_count": 9,
     "metadata": {},
     "output_type": "execute_result"
    }
   ],
   "source": [
    "#9 Apply feature scaling on numerical variables\n",
    "\n",
    "\n",
    "from sklearn.preprocessing import StandardScaler\n",
    "\n",
    "cols = df.select_dtypes(include=\"number\").columns.to_list()\n",
    "cols.remove(\"price\")\n",
    "\n",
    "scaler = StandardScaler()\n",
    "x[cols] = scaler.fit_transform(x[cols])\n",
    "\n",
    "x.head()\n"
   ]
  },
  {
   "cell_type": "code",
   "execution_count": 10,
   "id": "acdbedab-dcac-4806-bec5-37fbc5750b15",
   "metadata": {},
   "outputs": [
    {
     "data": {
      "text/plain": [
       "((381, 12), (164, 12), (381,), (164,))"
      ]
     },
     "execution_count": 10,
     "metadata": {},
     "output_type": "execute_result"
    }
   ],
   "source": [
    "#10 Split Data into Training and Testing Sets (70%-Train 30%-Test) - X_train, y_train, X_test, y_test\n",
    "\n",
    "\n",
    "from sklearn.model_selection import train_test_split\n",
    "\n",
    "x_train, x_test, y_train, y_test = train_test_split(x,y,test_size=0.3,random_state=42)\n",
    "\n",
    "x_train.shape , x_test.shape, y_train.shape, y_test.shape\n"
   ]
  },
  {
   "cell_type": "code",
   "execution_count": 11,
   "id": "bd655ec0-4bab-494f-b9d1-f2e1da55cfb0",
   "metadata": {},
   "outputs": [
    {
     "name": "stdout",
     "output_type": "stream",
     "text": [
      "Intercept: 4071726.923233441\n",
      "Coefficients: [ 548676.87299684   61007.57353683  560930.5907925   360373.26651063\n",
      "  408320.46478164  279534.04145787  484980.21525134  619934.34714776\n",
      "  680006.92089594  261749.09078536  509441.46380309 -198031.32519469]\n"
     ]
    }
   ],
   "source": [
    "#11 Fitting Multiple Linear Regression to the Training\n",
    "\n",
    "\n",
    "from sklearn.linear_model import LinearRegression\n",
    "\n",
    "# Create an instance of the LinearRegression model.\n",
    "model = LinearRegression()\n",
    "\n",
    "# Fit the model on the training data (X_train and y_train)\n",
    "model.fit(x_train, y_train)\n",
    "\n",
    "# Output the model's intercept and coefficients\n",
    "print(\"Intercept:\", model.intercept_)\n",
    "print(\"Coefficients:\", model.coef_)\n"
   ]
  },
  {
   "cell_type": "code",
   "execution_count": 12,
   "id": "b69edc42-85f5-4bf2-856e-b9318f10bb85",
   "metadata": {},
   "outputs": [
    {
     "data": {
      "text/plain": [
       "126   -5.477012e+05\n",
       "363   -1.499996e+05\n",
       "370    7.643610e+05\n",
       "31    -1.977171e+06\n",
       "113    2.678948e+05\n",
       "Name: price, dtype: float64"
      ]
     },
     "execution_count": 12,
     "metadata": {},
     "output_type": "execute_result"
    }
   ],
   "source": [
    "#12 Predict on the train set and calculate the error = y_pred - y_train\n",
    "\n",
    "y_pred_tr = model.predict(x_train)\n",
    "\n",
    "error_tr = y_pred_tr - y_train\n",
    "\n",
    "error_tr[:5]"
   ]
  },
  {
   "cell_type": "code",
   "execution_count": 13,
   "id": "455d5dbb-531e-46aa-aae8-6ad4c72c5d28",
   "metadata": {},
   "outputs": [
    {
     "data": {
      "image/png": "[encoded data removed]",
      "text/plain": [
       "<Figure size 576x432 with 1 Axes>"
      ]
     },
     "metadata": {
      "needs_background": "light"
     },
     "output_type": "display_data"
    }
   ],
   "source": [
    "#13  Residual plot - plot y_pred in x axis and errors in y axis\n",
    "\n",
    "plt.figure(figsize=(8,6))\n",
    "sns.scatterplot(x=y_pred_tr, y = error_tr )\n",
    "plt.axhline(y=0, color='red', linestyle='dashed')  # Reference line at y = 0\n",
    "plt.xlabel(\"Predicted Values (y_pred)\")\n",
    "plt.ylabel(\"Residuals (Errors)\")\n",
    "plt.title(\"Residual Plot - Test\")\n",
    "plt.title(\"Residual plot for train data\")\n",
    "plt.show()\n"
   ]
  },
  {
   "cell_type": "code",
   "execution_count": 14,
   "id": "7a14c90f-7b6e-4ffc-903c-83396c77cf3f",
   "metadata": {},
   "outputs": [
    {
     "data": {
      "text/plain": [
       "316    1.347509e+06\n",
       "77     4.471855e+05\n",
       "360   -6.545376e+05\n",
       "90    -1.963055e+06\n",
       "493    5.159837e+05\n",
       "Name: price, dtype: float64"
      ]
     },
     "execution_count": 14,
     "metadata": {},
     "output_type": "execute_result"
    }
   ],
   "source": [
    "#14  Predic on the test set\n",
    "\n",
    "y_pred_te = model.predict(x_test)\n",
    "\n",
    "error_te = y_pred_te - y_test\n",
    "\n",
    "error_te[:5]\n"
   ]
  },
  {
   "cell_type": "code",
   "execution_count": 15,
   "id": "65984973-fe40-4cc3-8d6f-13cf05d7f6c9",
   "metadata": {},
   "outputs": [
    {
     "data": {
      "image/png": "[encoded data removed]",
      "text/plain": [
       "<Figure size 576x432 with 1 Axes>"
      ]
     },
     "metadata": {
      "needs_background": "light"
     },
     "output_type": "display_data"
    }
   ],
   "source": [
    "#15 Residual plot - plot y_pred in x axis and errors in y axis\n",
    "\n",
    "\n",
    "# Plot residual plot\n",
    "plt.figure(figsize=(8, 6))\n",
    "sns.scatterplot(x=y_pred_te, y=error_te)\n",
    "plt.axhline(y=0, color='red', linestyle='dashed')  # Reference line at y = 0\n",
    "plt.xlabel(\"Predicted Values (y_pred)\")\n",
    "plt.ylabel(\"Residuals (Errors)\")\n",
    "plt.title(\"Residual Plot - Test\")\n",
    "plt.show()"
   ]
  },
  {
   "cell_type": "code",
   "execution_count": 16,
   "id": "be40d002-17c5-433f-862c-ff1302693baf",
   "metadata": {},
   "outputs": [
    {
     "name": "stdout",
     "output_type": "stream",
     "text": [
      "Mean Squared Error (MSE): 1535047758428.05\n",
      "R-Squared (R²) Value: 0.6435\n"
     ]
    }
   ],
   "source": [
    "#16 Print Mean Squared Error and R Squared Value\n",
    "\n",
    "\n",
    "from sklearn.metrics import mean_squared_error, r2_score\n",
    "\n",
    "mse = mean_squared_error(y_test,y_pred_te)\n",
    "r2 = r2_score(y_test,y_pred_te)\n",
    "\n",
    "# Print the results\n",
    "print(f\"Mean Squared Error (MSE): {mse:.2f}\")\n",
    "print(f\"R-Squared (R²) Value: {r2:.4f}\")"
   ]
  },
  {
   "cell_type": "code",
   "execution_count": 17,
   "id": "597131be-8144-4d7c-8486-adadb6ab0101",
   "metadata": {},
   "outputs": [
    {
     "data": {
      "text/plain": [
       "np.float64(1535047758428.0503)"
      ]
     },
     "execution_count": 17,
     "metadata": {},
     "output_type": "execute_result"
    }
   ],
   "source": [
    "# Manual calculation\n",
    "\n",
    "#  mse = sum of (yact - ypred)^2 / n\n",
    "import numpy as np\n",
    "\n",
    "n = y_test.shape[0]\n",
    "mse_man = np.sum((y_test - y_pred_te)**2) / n\n",
    "\n",
    "mse_man\n"
   ]
  },
  {
   "cell_type": "code",
   "execution_count": 18,
   "id": "cf2642ae-5aa4-4588-8418-f5ab1791260b",
   "metadata": {},
   "outputs": [
    {
     "data": {
      "text/plain": [
       "np.float64(0.6435419628959106)"
      ]
     },
     "execution_count": 18,
     "metadata": {},
     "output_type": "execute_result"
    }
   ],
   "source": [
    "# r2 = 1 - ss_res / ss_tot\n",
    "\n",
    "# ss_res = sum(yact - ypred)^2\n",
    "# ss_tot = sum(yact - ymean)^2\n",
    "\n",
    "ss_res = np.sum((y_test - y_pred_te)**2)\n",
    "ss_tot = np.sum((y_test - np.mean(y_test))**2)\n",
    "\n",
    "r2_man = 1 - ss_res / ss_tot\n",
    "\n",
    "r2_man"
   ]
  },
  {
   "cell_type": "code",
   "execution_count": 19,
   "id": "c7fa2e18-2c8c-4719-9089-41d907caa531",
   "metadata": {},
   "outputs": [
    {
     "name": "stdout",
     "output_type": "stream",
     "text": [
      "                                            Features  R2 score  Adj R2 score\n",
      "0                        [area, bedrooms, bathrooms]  0.455930      0.440385\n",
      "1               [area, bedrooms, bathrooms, stories]  0.513759      0.495057\n",
      "2     [area, bedrooms, bathrooms, stories, mainroad]  0.528473      0.505584\n",
      "3  [area, bedrooms, bathrooms, stories, mainroad,...  0.649475      0.605660\n"
     ]
    }
   ],
   "source": [
    "\n",
    "\n",
    "#17 Check  Adjusted R Squared Value(by selecting different no of input variables insted of all)\n",
    "\n",
    "\n",
    "from sklearn.linear_model import LinearRegression\n",
    "from sklearn.model_selection import train_test_split\n",
    "from sklearn.metrics import r2_score\n",
    "import pandas as pd\n",
    "\n",
    "def adj_r2(r2,n,k) :\n",
    "    return 1 - ((1 - r2) * (n - 1)) / (n - k - 1)\n",
    "\n",
    "cols = x.columns.to_list()\n",
    "\n",
    "feats = [cols[:3],\n",
    "         cols[:4],\n",
    "         cols[:5],\n",
    "         cols\n",
    "        ]\n",
    "\n",
    "result = []\n",
    "\n",
    "for feat in feats : \n",
    "    x_sub = x[feat]\n",
    "    x_train, x_test, y_train, y_test = train_test_split(x_sub,y,test_size=0.2,random_state=42)\n",
    "    model = LinearRegression()\n",
    "    model.fit(x_train,y_train)\n",
    "    y_pred = model.predict(x_test)\n",
    "    r2 = r2_score(y_test,y_pred)\n",
    "    n = x_test.shape[0]\n",
    "    k = x_test.shape[1]\n",
    "    adj = adj_r2(r2,n,k)\n",
    "    result.append({\"Features\" : feat, \"R2 score\" : r2 , \"Adj R2 score\" : adj})\n",
    "\n",
    "result_df = pd.DataFrame(result) # for readability \n",
    "print(result_df)\n",
    "\n"
   ]
  },
  {
   "cell_type": "code",
   "execution_count": 21,
   "id": "7c44d221-7156-457f-acb3-9c454d431762",
   "metadata": {},
   "outputs": [
    {
     "name": "stdout",
     "output_type": "stream",
     "text": [
      "Mean Squared Error (MSE)  : 1535047758428.05\n",
      "R-Squared (R²) Value: 0.6435\n"
     ]
    }
   ],
   "source": [
    "#manual regression model\n",
    "\n",
    "import numpy as np\n",
    "from sklearn.model_selection import train_test_split\n",
    "from sklearn.metrics import mean_squared_error, r2_score\n",
    "\n",
    "x_train, x_test, y_train, y_test = train_test_split(x,y,test_size=0.3,random_state=42)\n",
    "\n",
    "\n",
    "#  concatenate with 1s for intercept \n",
    "x_b = np.c_[np.ones((x_train.shape[0],1)), x_train]\n",
    "\n",
    "#  theta = [ [ (x^T . x) ^(-1) ] . x^T ] . y\n",
    "theta = np.linalg.inv(x_b.T @ x_b) @ x_b.T @ y_train\n",
    "\n",
    "\n",
    "# y_cap = xtest_w * theta\n",
    "def predict(x_test):\n",
    "    x_test = np.c_[np.ones((x_test.shape[0],1)) , x_test]\n",
    "    return x_test @ theta\n",
    "\n",
    "y_pred = predict(x_test)\n",
    "\n",
    "mse = mean_squared_error(y_test,y_pred)\n",
    "r2 = r2_score(y_test,y_pred)\n",
    "\n",
    "# Print the results\n",
    "print(f\"Mean Squared Error (MSE)  : {mse:.2f}\")\n",
    "print(f\"R-Squared (R²) Value: {r2:.4f}\")\n"
   ]
  },
  {
   "cell_type": "code",
   "execution_count": null,
   "id": "c14f5d73-c20b-45b2-8525-c227e2144d36",
   "metadata": {},
   "outputs": [],
   "source": []
  }
 ],
 "metadata": {
  "kernelspec": {
   "display_name": "Python 3 (ipykernel)",
   "language": "python",
   "name": "python3"
  },
  "language_info": {
   "codemirror_mode": {
    "name": "ipython",
    "version": 3
   },
   "file_extension": ".py",
   "mimetype": "text/x-python",
   "name": "python",
   "nbconvert_exporter": "python",
   "pygments_lexer": "ipython3",
   "version": "3.10.12"
  }
 },
 "nbformat": 4,
 "nbformat_minor": 5
}
